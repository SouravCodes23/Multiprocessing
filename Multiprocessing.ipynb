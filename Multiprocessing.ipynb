{
 "cells": [
  {
   "cell_type": "markdown",
   "id": "c275adc7-b80c-44d7-ae3a-2afe9d490498",
   "metadata": {},
   "source": [
    " Q1. What is multiprocessing in python? Why is it useful? "
   ]
  },
  {
   "cell_type": "markdown",
   "id": "7808b309-63b7-42d3-9da7-8fa68ed1f517",
   "metadata": {},
   "source": [
    "Multiprocessing in Python is a technique where multiple processes are created and run simultaneously, each with its own memory space. Unlike multithreading, where threads share the same memory space, processes in multiprocessing do not share memory, which helps avoid many of the issues related to threading.\n",
    "\n",
    "it is useful\n",
    "1) bypasses the global interpreter lock\n",
    "2) enhanced performance for cpu bound tasks\n",
    "3) isolation of process\n",
    "4) improved reliability"
   ]
  },
  {
   "cell_type": "markdown",
   "id": "58b42980-6db1-4a17-9681-88b69090a5bc",
   "metadata": {},
   "source": [
    "Q2. What are the differences between multiprocessing and multithreading?"
   ]
  },
  {
   "cell_type": "markdown",
   "id": "1ef6fbe4-db19-4b81-9330-77020871dd9b",
   "metadata": {},
   "source": [
    "multiprocessing\n",
    "1) Multiple processes, each with its own memory space and Python interpreter.\n",
    "2) Higher memory usage since each process has its own memory space.\n",
    "3) Slower context switching between processes due to separate memory spaces.\n",
    "\n",
    "multithreading\n",
    "1) Multiple threads within the same process, sharing the same memory space.\n",
    "2) Lower memory usage as threads share the same memory space within a single process.\n",
    "3) Faster context switching between threads within the same process."
   ]
  },
  {
   "cell_type": "markdown",
   "id": "535af8c7-aa7a-43fe-8bb1-04a5c59082d0",
   "metadata": {},
   "source": [
    "Q3. Write a python code to create a process using the multiprocessing module."
   ]
  },
  {
   "cell_type": "code",
   "execution_count": 2,
   "id": "bf38d5a0-1375-447e-8a93-fa6b476d0283",
   "metadata": {},
   "outputs": [
    {
     "name": "stdout",
     "output_type": "stream",
     "text": [
      "The square of 5 is 25\n",
      "process has finished execution\n"
     ]
    }
   ],
   "source": [
    "import multiprocessing \n",
    "\n",
    "def print_square(number):\n",
    "    print(f\"The square of {number} is {number * number}\")\n",
    "    \n",
    "if __name__ == \"__main__\":\n",
    "    process = multiprocessing.Process(target=print_square, args=(5,))\n",
    "    \n",
    "    \n",
    "    process.start()\n",
    "    process.join()\n",
    "    \n",
    "    print(\"process has finished execution\")"
   ]
  },
  {
   "cell_type": "markdown",
   "id": "716ba6c8-2107-4f95-bc48-aaf2abebc885",
   "metadata": {},
   "source": [
    " Q4. What is a multiprocessing pool in python? Why is it used?"
   ]
  },
  {
   "cell_type": "markdown",
   "id": "45cae796-050e-4fc9-a74f-c858ef132fdb",
   "metadata": {},
   "source": [
    "A multiprocessing pool in Python is a feature provided by the multiprocessing module that allows you to manage a pool of worker processes for parallel execution of tasks. The pool is designed to handle a large number of tasks efficiently by distributing them across multiple worker processes.\n",
    "\n",
    "it is used for \n",
    "1) efficiency\n",
    "2) Simplifies Parallelism\n",
    "3) Task Scheduling"
   ]
  },
  {
   "cell_type": "markdown",
   "id": "5cd8ed17-fba8-40f7-8239-204aa25e4d74",
   "metadata": {},
   "source": [
    " Q5. How can we create a pool of worker processes in python using the multiprocessing module?"
   ]
  },
  {
   "cell_type": "markdown",
   "id": "ada5b8f1-6c13-4fcb-ab2c-f1a6a76f4419",
   "metadata": {},
   "source": [
    "1st \n",
    "import the multiprocessing module\n",
    "then define the worker function and create the pool of worker process\n",
    "when create the multiple worker process then distribute the tasks and when distribute task is happened then close and join the pool"
   ]
  },
  {
   "cell_type": "markdown",
   "id": "5b90bbf3-e851-4d4c-8417-65cbd0f08d8b",
   "metadata": {},
   "source": [
    " Q6. Write a python program to create 4 processes, each process should print a different number using the \n",
    "multiprocessing module in python"
   ]
  },
  {
   "cell_type": "code",
   "execution_count": null,
   "id": "4d36c159-aba8-4b3c-9b9a-89772d55e10f",
   "metadata": {},
   "outputs": [],
   "source": []
  }
 ],
 "metadata": {
  "kernelspec": {
   "display_name": "Python 3 (ipykernel)",
   "language": "python",
   "name": "python3"
  },
  "language_info": {
   "codemirror_mode": {
    "name": "ipython",
    "version": 3
   },
   "file_extension": ".py",
   "mimetype": "text/x-python",
   "name": "python",
   "nbconvert_exporter": "python",
   "pygments_lexer": "ipython3",
   "version": "3.10.8"
  }
 },
 "nbformat": 4,
 "nbformat_minor": 5
}
